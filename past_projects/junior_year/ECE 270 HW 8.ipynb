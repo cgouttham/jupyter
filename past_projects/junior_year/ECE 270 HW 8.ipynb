{
 "cells": [
  {
   "cell_type": "code",
   "execution_count": 19,
   "metadata": {},
   "outputs": [],
   "source": [
    "import numpy as np\n",
    "import matplotlib\n",
    "import math\n",
    "import solver\n"
   ]
  },
  {
   "cell_type": "code",
   "execution_count": 76,
   "metadata": {},
   "outputs": [
    {
     "data": {
      "text/plain": [
       "[-sqrt(3), sqrt(3)]"
      ]
     },
     "execution_count": 76,
     "metadata": {},
     "output_type": "execute_result"
    }
   ],
   "source": [
    "from sympy.solvers import solve\n",
    "from sympy import Symbol\n",
    "x = Symbol('x')\n",
    "\n",
    "solve(integrate(c*math.sin(beta*x), (0,1)))"
   ]
  },
  {
   "cell_type": "code",
   "execution_count": 18,
   "metadata": {
    "scrolled": false
   },
   "outputs": [
    {
     "name": "stdout",
     "output_type": "stream",
     "text": [
      "Wavelength at 1 nanometer (m/s)\t \t 727389.5095487668\n",
      "Wavelength at 10 nanometer (m/s)\t 72738.95095487668\n",
      "Wavelength at 100 nanometer (m/s)\t 7273.895095487668\n"
     ]
    }
   ],
   "source": [
    "# Question 1\n",
    "\n",
    "# Wave Particle Duality Equation\n",
    "\n",
    "nm_to_m = 10**(-9)\n",
    "# Calculate 3 wavelengths in nanometers\n",
    "wa = 1 * nm_to_m\n",
    "wb = 10 * nm_to_m\n",
    "wc = 100 * nm_to_m\n",
    "\n",
    "# Constants\n",
    "e_mass = 9.10938356 * 10**(-31)\n",
    "h = 6.62607004 * 10**(-34)\n",
    "\n",
    "\n",
    "va = h/(e_mass * wa);\n",
    "vb = h/(e_mass * wb);\n",
    "vc = h/(e_mass * wc);\n",
    "\n",
    "print(\"Wavelength at 1 nanometer (m/s)\\t \\t\", va)\n",
    "print(\"Wavelength at 10 nanometer (m/s)\\t\", vb)\n",
    "print(\"Wavelength at 100 nanometer (m/s)\\t\", vc)\n",
    "\n"
   ]
  },
  {
   "cell_type": "code",
   "execution_count": 45,
   "metadata": {},
   "outputs": [
    {
     "name": "stdout",
     "output_type": "stream",
     "text": [
      "de Broglie wavelength of ball \t \t 2.1203424128e-33\n",
      "speed required for wl = radius \t \t 8.740075897774113e-33\n",
      "Thermal velocity: \t \t \t 5.737130006963412e-11\n"
     ]
    }
   ],
   "source": [
    "# Question 2\n",
    "ball_m = 0.625\n",
    "k_B = 1.38064852 * 10**(-23)\n",
    "T = 298\n",
    "h = 6.62607004 * 10**(-34)\n",
    "\n",
    "\n",
    "\n",
    "# Step 1: Calculate the de Broglie wavelength for a basketball with a velocity of 0.5 m/s.\n",
    "v = 0.5\n",
    "wl_ball = h/(ball_m * v);\n",
    "print(\"de Broglie wavelength of ball \\t \\t\", wl_ball)\n",
    "\n",
    "# Step 2: What speed would lead to a wavelength comparable to the radius of a basketball?\n",
    "ball_radius = .2426/2\n",
    "v = h/(ball_m * ball_radius)\n",
    "print(\"speed required for wl = radius \\t \\t\", v);\n",
    "# Step 3: How does this velocity compare to thermal velocity in one dimension at room temperature? \n",
    "v_thermal = math.sqrt((k_B * T) / (2 * ball_m))\n",
    "print(\"Thermal velocity: \\t \\t \\t\", v_thermal)\n",
    "print(\"Thermal velocity is much greater than the speed required in step 2\")\n"
   ]
  },
  {
   "cell_type": "code",
   "execution_count": 58,
   "metadata": {},
   "outputs": [
    {
     "name": "stdout",
     "output_type": "stream",
     "text": [
      "0.07179676972449085\n"
     ]
    }
   ],
   "source": [
    "# Question 3\n",
    "\n",
    "# Constants\n",
    "h = 6.62607004 * 10**(-34)\n",
    "beta1 = 2; # arbitrary value\n",
    "m_e = 9.10938356 * 10**(-31)\n",
    "h_bar = h/6.28\n",
    "\n",
    "\n",
    "V_0 = ((h_bar**2)*(beta1**2))/(8 * m_e)\n",
    "\n",
    "# Equations\n",
    "beta2 = math.sqrt(beta1**2 - (2*m_e*V_0)/(h_bar**2))\n",
    "reflection_coeff = (beta1 - beta2)/(beta2 + beta1);\n",
    "print(reflection_coeff)"
   ]
  },
  {
   "cell_type": "code",
   "execution_count": 63,
   "metadata": {},
   "outputs": [
    {
     "name": "stdout",
     "output_type": "stream",
     "text": [
      "2.6427147936720186e-19\n",
      "psi_x = math.sqrt(2/l) * math.sin(beta*x) for 0<x<L and 0 otherwise\n"
     ]
    }
   ],
   "source": [
    "# Question 4\n",
    "\n",
    "L = 3 * 10**-9\n",
    "m = 9.10938356 * 10**(-31)\n",
    "\n",
    "# Ground State wave function \n",
    "n = 1\n",
    "beta = (n * math.pi)/L # Ground state wave -> n=1\n",
    "psi_x = math.sqrt(2/L) * math.sin(beta*x)\n",
    "E = ((h**2)/(2*m))*(n*math.pi/L)**2\n",
    "print(\"psi_x = math.sqrt(2/l) * math.sin(beta*x) for 0<x<L and 0 otherwise\")\n",
    "print(E)"
   ]
  },
  {
   "cell_type": "code",
   "execution_count": 86,
   "metadata": {},
   "outputs": [
    {
     "name": "stdout",
     "output_type": "stream",
     "text": [
      "A^2*(psi1 + psi2 + psi3) == 1\n",
      "A = 2.24 * 1e4\n",
      "After solving for A, Solve for the expectation of psi using the equation\n",
      "Expectation of momentum  = 1.37 * 10^-50\n"
     ]
    }
   ],
   "source": [
    "from sympy import *\n",
    "# Question 6\n",
    "L = 3 * 10**(-9)\n",
    "beta = (3 * math.pi) / (2 * L);\n",
    "x1 = Symbol('x1')\n",
    "x2 = Symbol('x2')\n",
    "\n",
    "# psi1 = integrate((math.sin(beta * x1))**2, 0, 1 * (10 ** (-9)))\n",
    "# psi2 = integrate(1, 1 * (10 ** 9), 2 * (10 ** (-9)))\n",
    "# psi3 = integrate((math.cos(beta * x2))**2, 2 * (10 ** 9), 3 * (10 ** 9))\n",
    "\n",
    "print(\"A^2*(psi1 + psi2 + psi3) == 1\")\n",
    "print(\"A = 2.24 * 1e4\")\n",
    "# Done on Wolfram Alpha because sympy library doesn't do integrations with complex results. \n",
    "print (\"After solving for A, Solve for the expectation of psi using the equation\")\n",
    "# integral (in nano seconds). 0 -> 1 psi_p^2_psi* + 1 -> 2 psi_p^2_psi* +  2 -> 3 psi_p^2_psi*\n",
    "print(\"Expectation of momentum  = 1.37 * 10^-50\")"
   ]
  },
  {
   "cell_type": "code",
   "execution_count": null,
   "metadata": {},
   "outputs": [],
   "source": []
  },
  {
   "cell_type": "code",
   "execution_count": null,
   "metadata": {},
   "outputs": [],
   "source": []
  }
 ],
 "metadata": {
  "kernelspec": {
   "display_name": "Python 3",
   "language": "python",
   "name": "python3"
  },
  "language_info": {
   "codemirror_mode": {
    "name": "ipython",
    "version": 3
   },
   "file_extension": ".py",
   "mimetype": "text/x-python",
   "name": "python",
   "nbconvert_exporter": "python",
   "pygments_lexer": "ipython3",
   "version": "3.7.2"
  }
 },
 "nbformat": 4,
 "nbformat_minor": 2
}
